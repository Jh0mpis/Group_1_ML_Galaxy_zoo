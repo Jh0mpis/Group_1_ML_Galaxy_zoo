{
 "cells": [
  {
   "cell_type": "code",
   "execution_count": 1,
   "id": "8bb8b69b-4391-4b28-83e9-07a655902911",
   "metadata": {},
   "outputs": [],
   "source": [
    "#Importing libraries\n",
    "\n",
    "import plotly.express as px\n",
    "import matplotlib.pyplot as plt\n",
    "import numpy as np\n",
    "from sklearn.preprocessing import StandardScaler\n",
    "from sklearn.model_selection import train_test_split\n",
    "#import Random forest classifiers\n",
    "from sklearn.metrics import accuracy_score, classification_report, confusion_matrix\n",
    "import seaborn as sns"
   ]
  },
  {
   "cell_type": "code",
   "execution_count": 2,
   "id": "58039409-08ae-4682-81d5-3f3880706c0b",
   "metadata": {},
   "outputs": [
    {
     "name": "stdout",
     "output_type": "stream",
     "text": [
      "                objid  asset_id\n",
      "0  587722981736120347         1\n",
      "1  587722981736579107         2\n",
      "2  587722981741363294         3\n",
      "3  587722981741363323         4\n",
      "4  587722981741559888         5\n",
      "<class 'pandas.core.frame.DataFrame'>\n",
      "RangeIndex: 355990 entries, 0 to 355989\n",
      "Data columns (total 2 columns):\n",
      " #   Column    Non-Null Count   Dtype\n",
      "---  ------    --------------   -----\n",
      " 0   objid     355990 non-null  int64\n",
      " 1   asset_id  355990 non-null  int64\n",
      "dtypes: int64(2)\n",
      "memory usage: 5.4 MB\n"
     ]
    }
   ],
   "source": [
    "import pandas as pd \n",
    "\n",
    "# get the objid and corresponding asset_id from gz2_filename_mapping.csv\n",
    "columns_to_keep = ['objid', 'asset_id']\n",
    "\n",
    "# Read the selected columns from the file\n",
    "name_map = pd.read_csv(\"data/gz2_filename_mapping.csv\", usecols=columns_to_keep)\n",
    "\n",
    "# display the first few rows\n",
    "print(name_map.head(5))\n",
    "\n",
    "name_map.info()"
   ]
  },
  {
   "cell_type": "code",
   "execution_count": 3,
   "id": "527d18cd-b01d-46df-a824-62bc5bb16152",
   "metadata": {},
   "outputs": [
    {
     "name": "stdout",
     "output_type": "stream",
     "text": [
      "                objid gz2class\n",
      "0  588017703996096547    SBb?t\n",
      "1  587738569780428805      Ser\n",
      "2  587735695913320507     Sc+t\n",
      "3  587742775634624545   SBc(r)\n",
      "4  587732769983889439      Ser\n",
      "<class 'pandas.core.frame.DataFrame'>\n",
      "RangeIndex: 243500 entries, 0 to 243499\n",
      "Data columns (total 2 columns):\n",
      " #   Column    Non-Null Count   Dtype \n",
      "---  ------    --------------   ----- \n",
      " 0   objid     243500 non-null  int64 \n",
      " 1   gz2class  243500 non-null  object\n",
      "dtypes: int64(1), object(1)\n",
      "memory usage: 3.7+ MB\n"
     ]
    }
   ],
   "source": [
    "# select columns dr7objid and gz2class from zoo2MainSpecz.csv\n",
    "columns_to_keep = ['dr7objid', 'gz2class']\n",
    "\n",
    "# Read the selected columns from the file\n",
    "labels = pd.read_csv(\"data/zoo2MainSpecz.csv\", usecols=columns_to_keep)\n",
    "\n",
    "# change the name of column dr7objid to objid for merging later\n",
    "labels.rename(columns={'dr7objid':'objid'}, inplace=True)\n",
    "\n",
    "# display\n",
    "print(labels.head(5))\n",
    "\n",
    "labels.info()"
   ]
  },
  {
   "cell_type": "code",
   "execution_count": 4,
   "id": "1e2aa059-2c46-4b24-82e5-88db6202bce4",
   "metadata": {},
   "outputs": [
    {
     "name": "stdout",
     "output_type": "stream",
     "text": [
      "  asset_id   0   1   2   3   4   5   6  7  8  ...  179766  179767  179768  \\\n",
      "0   175547   3   3   2   1   0   0   0  0  0  ...       9      11       7   \n",
      "1   275362  17  16  13  10   7   4   2  1  0  ...       1       1       0   \n",
      "2    44579  15  11   6   3   3   3   3  3  5  ...       9       9       5   \n",
      "3   246001   6   6   7   7   6   5   3  1  1  ...      31      31      29   \n",
      "4   218127   0   1   5  10  13  13  10  7  5  ...       2       2       1   \n",
      "\n",
      "   179769  179770  179771  179772  179773  179774  179775  \n",
      "0       5       2       0       0       2       6       9  \n",
      "1       0       1       2       3       5       5       6  \n",
      "2       3       1       0       0       1       3       5  \n",
      "3      30      31      33      34      34      34      34  \n",
      "4       1       2       3       6       7       5       3  \n",
      "\n",
      "[5 rows x 179777 columns]\n",
      "<class 'pandas.core.frame.DataFrame'>\n",
      "RangeIndex: 500 entries, 0 to 499\n",
      "Columns: 179777 entries, asset_id to 179775\n",
      "dtypes: object(1), uint8(179776)\n",
      "memory usage: 85.7+ MB\n"
     ]
    }
   ],
   "source": [
    "# Sequential implementation. Loops through one image at a time. This is embarassingly \n",
    "# parallelizable. The task which here consists of 1. processing images, converting to grayscale \n",
    "# and flattening pixel values is CPU-bound, ie performance is determined promarily by how\n",
    "# CPU can process it in contrast to I/O bound. \n",
    "# We can parallelize using Multiprocessing library or Dask. \n",
    "\n",
    "import os \n",
    "from PIL import Image, ImageOps\n",
    "from numpy import asarray\n",
    "\n",
    "# Directory containing the images\n",
    "image_dir = \"data/images\"\n",
    "\n",
    "# List to store image data \n",
    "image_data = []\n",
    "image_names = []\n",
    "\n",
    "# Iterate over all files in the directory \n",
    "for filename in os.listdir(image_dir):\n",
    "    if filename.endswith(('.jpg', '.png')): #filter the image files\n",
    "        image_path = os.path.join(image_dir, filename)\n",
    "\n",
    "        # Open image and convert to grayscale\n",
    "        img = Image.open(image_path)\n",
    "        img_gray = ImageOps.grayscale(img)\n",
    "\n",
    "        # Convert to a numpy array and flatter it to 1D\n",
    "        img_array = np.asarray(img_gray).flatten()\n",
    "\n",
    "        #store the image data and filename\n",
    "        image_data.append(img_array)\n",
    "\n",
    "        # Extract the base name without the extension\n",
    "        image_name = os.path.splitext(filename)[0] # Get only the root, ie w/o extension\n",
    "    \n",
    "        image_names.append(image_name)\n",
    "\n",
    "# convert to DataFrame\n",
    "image_data = pd.DataFrame(image_data)\n",
    "image_data.insert(0, \"asset_id\", image_names) # NOTE: asset_id values are object type. Need to convert to int64 before merging later. \n",
    "# print(image_data['asset_id'].dtype)\n",
    "\n",
    "#display the data frame\n",
    "print(image_data.head())\n",
    "image_data.info()\n",
    "\n",
    "# Save to CSV\n",
    "#image_data(\"image_pixel_data.csv\", index=False)"
   ]
  },
  {
   "cell_type": "code",
   "execution_count": 5,
   "id": "e6ac972b-a70b-447c-8e9b-80cdc2407e43",
   "metadata": {},
   "outputs": [
    {
     "name": "stdout",
     "output_type": "stream",
     "text": [
      "                objid  asset_id gz2class\n",
      "0  587722981741363294         3       Ei\n",
      "1  587722981741363323         4       Sc\n",
      "2  587722981741559888         5       Er\n",
      "3  587722981741625481         6       Er\n",
      "4  587722981741625484         7       Ei\n",
      "<class 'pandas.core.frame.DataFrame'>\n",
      "RangeIndex: 243500 entries, 0 to 243499\n",
      "Data columns (total 3 columns):\n",
      " #   Column    Non-Null Count   Dtype \n",
      "---  ------    --------------   ----- \n",
      " 0   objid     243500 non-null  int64 \n",
      " 1   asset_id  243500 non-null  int64 \n",
      " 2   gz2class  243500 non-null  object\n",
      "dtypes: int64(2), object(1)\n",
      "memory usage: 5.6+ MB\n"
     ]
    }
   ],
   "source": [
    "# Merge labels and name_map dataframes to map asset_id to gz2class\n",
    "# merge based on objid. use an inner join (only matching rows) \n",
    "# since only a subset of points in labels are in name_map, ann inner join \n",
    "# will include the rows from name_map that have matching gz2class values\n",
    "# this will avoid NaNs\n",
    "\n",
    "labels_mapped = pd.merge(name_map, labels, on='objid', how='inner' ) \n",
    "\n",
    "print(labels_mapped.head(5))\n",
    "\n",
    "labels_mapped.info() # should have the same number of rows as the dataframe labels"
   ]
  },
  {
   "cell_type": "code",
   "execution_count": 6,
   "id": "dd8e7162-24bf-4063-b5a7-1bc7bff5a232",
   "metadata": {},
   "outputs": [
    {
     "name": "stdout",
     "output_type": "stream",
     "text": [
      "                  objid  asset_id   0   1   2   3   4   5   6  7  ...  179767  \\\n",
      "0    587722981741363294         3   3   3   2   1   0   0   0  0  ...      11   \n",
      "1    587722981741363323         4  17  16  13  10   7   4   2  1  ...       1   \n",
      "2    587722981741559888         5  15  11   6   3   3   3   3  3  ...       9   \n",
      "3    587722981741625481         6   6   6   7   7   6   5   3  1  ...      31   \n",
      "4    587722981741625484         7   0   1   5  10  13  13  10  7  ...       2   \n",
      "..                  ...       ...  ..  ..  ..  ..  ..  ..  .. ..  ...     ...   \n",
      "495  587722982300058037       545  12  10   7   4   2   2   3  3  ...       1   \n",
      "496  587722982300123441       546  21   4   1   1   1   2   6  1  ...       9   \n",
      "497  587722982300123469       547   6   5   3   1   2   3   5  7  ...       3   \n",
      "498  587722982300123578       548   8   7   4   2   1   0   1  1  ...       4   \n",
      "499  587722982300188997       549   5   2   0   0   4   6   5  3  ...       6   \n",
      "\n",
      "     179768  179769  179770  179771  179772  179773  179774  179775  gz2class  \n",
      "0         7       5       2       0       0       2       6       9        Ei  \n",
      "1         0       0       1       2       3       5       5       6        Sc  \n",
      "2         5       3       1       0       0       1       3       5        Er  \n",
      "3        29      30      31      33      34      34      34      34        Er  \n",
      "4         1       1       2       3       6       7       5       3        Ei  \n",
      "..      ...     ...     ...     ...     ...     ...     ...     ...       ...  \n",
      "495       1       1       1       2       2       3       3       3       Sen  \n",
      "496      10      11      11      11      10       8       6       5      Sc?t  \n",
      "497       2       2       2       1       1       0       0       0        Er  \n",
      "498       2       2       1       1       1       1       1       1      Sc?t  \n",
      "499       6       5       3       2       0       0       0       0      Sc?t  \n",
      "\n",
      "[500 rows x 179779 columns]\n",
      "<class 'pandas.core.frame.DataFrame'>\n",
      "RangeIndex: 500 entries, 0 to 499\n",
      "Columns: 179779 entries, objid to gz2class\n",
      "dtypes: int64(2), object(1), uint8(179776)\n",
      "memory usage: 85.7+ MB\n"
     ]
    }
   ],
   "source": [
    "# Merge labels_mapped with image_data to insert gz2class columnt to the latter \n",
    "# Merge based on asset_id and use an inner join. image_data which is our \n",
    "# main data frame will only have, in general, a subset of data points (galaxies)\n",
    "# in labels_mapped. \n",
    "\n",
    "# convert asset_id values in image_data from object to int64 before mergeing\n",
    "image_data['asset_id'] = labels_mapped['asset_id'].astype(int)\n",
    "\n",
    "#merge\n",
    "galaxy_data = pd.merge(labels_mapped, image_data, on='asset_id', how='inner' ) \n",
    "\n",
    "# Move gz2class to the last position to serve as labels\n",
    "galaxy_data['gz2class'] = galaxy_data.pop('gz2class')  \n",
    "\n",
    "# print\n",
    "print(galaxy_data)\n",
    "\n",
    "galaxy_data.info()"
   ]
  },
  {
   "cell_type": "code",
   "execution_count": 7,
   "id": "48a8becb-4491-42ae-b6be-52254e46b3d6",
   "metadata": {},
   "outputs": [],
   "source": [
    "galaxy_data.to_csv(\"galaxy_data.csv\", index=False)"
   ]
  },
  {
   "cell_type": "code",
   "execution_count": 8,
   "id": "05f01106-487b-4176-8205-5cc7b7fa0e8f",
   "metadata": {},
   "outputs": [],
   "source": [
    "import pandas as pd\n",
    "import matplotlib.pyplot as plt\n",
    "import seaborn as sns\n",
    "\n",
    "# Load dataset\n",
    "galaxy_data = pd.read_csv(\"galaxy_data.csv\")\n",
    "\n",
    "# Drop asset_id\n",
    "galaxy_data.drop(columns=['asset_id'], inplace=True)"
   ]
  },
  {
   "cell_type": "code",
   "execution_count": 9,
   "id": "021e4550-0321-4a07-ab7a-3906bca6cc60",
   "metadata": {},
   "outputs": [
    {
     "name": "stdout",
     "output_type": "stream",
     "text": [
      "0\n"
     ]
    }
   ],
   "source": [
    "# Count missing values\n",
    "print(galaxy_data.isnull().sum().sum())"
   ]
  },
  {
   "cell_type": "code",
   "execution_count": 10,
   "id": "8caa4fd4-abfe-4cd5-a7dd-f920b21c6e93",
   "metadata": {},
   "outputs": [
    {
     "data": {
      "text/plain": [
       "(70,)"
      ]
     },
     "execution_count": 10,
     "metadata": {},
     "output_type": "execute_result"
    }
   ],
   "source": [
    "galaxy_data[\"gz2class\"].unique().shape"
   ]
  },
  {
   "cell_type": "code",
   "execution_count": 11,
   "id": "95434ab0-e2d6-4be6-82a6-d6b5984459db",
   "metadata": {},
   "outputs": [],
   "source": [
    "# Preprocess the features\n",
    "# Encode categorical variables\n",
    "from sklearn.preprocessing import LabelEncoder\n",
    "\n",
    "def map_gz2class_to_numeric(galaxy_data):\n",
    "    \"\"\"\n",
    "    Maps the categorical values in the 'gz2class' column to numerical values using LabelEncoder.\n",
    "    \"\"\"\n",
    "    # Initialize LabelEncoder\n",
    "    le = LabelEncoder()\n",
    "\n",
    "    # Fit and transform the target 'gz2class' column and create a new 'gz2class_mapped' column\n",
    "    galaxy_data['gz2class_mapped'] = le.fit_transform(galaxy_data['gz2class'])\n",
    "\n",
    "    return galaxy_data"
   ]
  },
  {
   "cell_type": "code",
   "execution_count": 12,
   "id": "b4fd2296-abde-4828-835f-17bc43e01101",
   "metadata": {},
   "outputs": [
    {
     "name": "stdout",
     "output_type": "stream",
     "text": [
      "  gz2class  gz2class_mapped\n",
      "0       Ei                2\n",
      "1       Sc               47\n",
      "2       Er                7\n",
      "3       Er                7\n",
      "4       Ei                2\n"
     ]
    }
   ],
   "source": [
    "galaxy_data = map_gz2class_to_numeric(galaxy_data)\n",
    "\n",
    "# Print the updated DataFrame with the mapped column\n",
    "print(galaxy_data[['gz2class', 'gz2class_mapped']].head())"
   ]
  },
  {
   "cell_type": "code",
   "execution_count": 13,
   "id": "045fde28-ef6e-4206-b2e0-7122d672af99",
   "metadata": {},
   "outputs": [
    {
     "name": "stdout",
     "output_type": "stream",
     "text": [
      "Shape after removing low-variance features: (500, 179776)\n"
     ]
    }
   ],
   "source": [
    "# In this step we check different values of variance (0.001,0.1, 0.5) but the shape remain same.\n",
    "# Variancethreshold has no effect on the feature\n",
    "from sklearn.feature_selection import VarianceThreshold\n",
    "\n",
    "# Drop ID and target columns first\n",
    "columns_to_drop = ['objid', 'gz2class', 'gz2class_mapped']\n",
    "feature_data = galaxy_data.drop(columns=columns_to_drop)\n",
    "\n",
    "# Remove low-variance features\n",
    "selector = VarianceThreshold(threshold=0.1)\n",
    "feature_data = feature_data.loc[:, selector.fit(feature_data).get_support()]\n",
    "\n",
    "print(\"Shape after removing low-variance features:\", feature_data.shape)"
   ]
  },
  {
   "cell_type": "code",
   "execution_count": null,
   "id": "a835f934-ce09-4181-9140-e013489f5127",
   "metadata": {},
   "outputs": [],
   "source": [
    "from sklearn.feature_selection import mutual_info_classif\n",
    "\n",
    "# Drop unwanted columns first\n",
    "columns_to_drop = ['objid', 'gz2class']\n",
    "feature_data = galaxy_data.drop(columns=[col for col in columns_to_drop if col in galaxy_data.columns])\n",
    "\n",
    "# Define features (X) and target (y)\n",
    "X = feature_data.drop(columns=['gz2class_mapped'])  # Ensure target is not in features\n",
    "y = feature_data['gz2class_mapped']  # Use the numerical label for MI computation\n",
    "\n",
    "# Compute Mutual Information Scores\n",
    "mi_scores = mutual_info_classif(X, y, discrete_features=False)\n",
    "\n",
    "# Convert to DataFrame for better visualization\n",
    "mi_scores_df = pd.DataFrame({'Feature': X.columns, 'MI_Score': mi_scores})\n",
    "\n",
    "# Select only important features (MI > 0.01)\n",
    "important_features = mi_scores_df[mi_scores_df['MI_Score'] > 0.01]['Feature']\n",
    "\n",
    "# Create reduced dataset with selected features\n",
    "df_reduced = feature_data[['gz2class_mapped'] + list(important_features)]\n",
    "\n",
    "# Print results\n",
    "print(f\"Kept {len(important_features)} important pixels out of {X.shape[1]} total features.\")\n",
    "print(\"New shape of feature data:\", df_reduced.shape)"
   ]
  },
  {
   "cell_type": "code",
   "execution_count": null,
   "id": "ad746bf6-a4d5-42f1-af00-a41454b0cf4d",
   "metadata": {},
   "outputs": [],
   "source": [
    "from sklearn.decomposition import PCA\n",
    "import numpy as np\n",
    "\n",
    "# Standardize features for PCA\n",
    "from sklearn.preprocessing import StandardScaler\n",
    "\n",
    "scaler = StandardScaler()\n",
    "X_scaled = scaler.fit_transform(df_reduced.drop(columns=['gz2class_mapped']))\n",
    "\n",
    "# Apply PCA by keep enough components to retain 95% variance\n",
    "pca = PCA(n_components=0.95)\n",
    "X_pca = pca.fit_transform(X_scaled)\n",
    "\n",
    "# Print number of components selected\n",
    "print(f\"PCA reduced features from {X_scaled.shape[1]} to {X_pca.shape[1]} components.\")\n",
    "\n",
    "# Convert back to DataFrame\n",
    "df_pca = pd.DataFrame(X_pca)\n",
    "df_pca['gz2class_mapped'] = df_reduced['gz2class_mapped'].values"
   ]
  },
  {
   "cell_type": "code",
   "execution_count": null,
   "id": "a21f39af-4cff-4146-8463-c6a7e30f6b0a",
   "metadata": {},
   "outputs": [],
   "source": []
  }
 ],
 "metadata": {
  "kernelspec": {
   "display_name": "Python [conda env:group_project_env] *",
   "language": "python",
   "name": "conda-env-group_project_env-py"
  },
  "language_info": {
   "codemirror_mode": {
    "name": "ipython",
    "version": 3
   },
   "file_extension": ".py",
   "mimetype": "text/x-python",
   "name": "python",
   "nbconvert_exporter": "python",
   "pygments_lexer": "ipython3",
   "version": "3.10.16"
  }
 },
 "nbformat": 4,
 "nbformat_minor": 5
}
