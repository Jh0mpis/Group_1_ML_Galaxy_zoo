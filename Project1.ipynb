{
 "cells": [
  {
   "cell_type": "markdown",
   "id": "7f72f561",
   "metadata": {},
   "source": [
    "You can use this notebook to write the ML pipeline for the classification of the galaxies in the GALAXYZOO dataset or create a folder with different files associated to the different steps of the ML pipeline."
   ]
  },
  {
   "cell_type": "code",
   "execution_count": 1,
   "id": "15be4be0",
   "metadata": {},
   "outputs": [],
   "source": [
    "#Importing libraries\n",
    "\n",
    "import plotly.express as px\n",
    "import matplotlib.pyplot as plt\n",
    "import numpy as np\n",
    "from sklearn.preprocessing import StandardScaler\n",
    "from sklearn.model_selection import train_test_split\n",
    "#import Random forest classifiers\n",
    "from sklearn.metrics import accuracy_score, classification_report, confusion_matrix\n",
    "import seaborn as sns"
   ]
  },
  {
   "cell_type": "markdown",
   "id": "02232e77",
   "metadata": {},
   "source": [
    "# Downloading the Galaxy Zoo Dataset\n",
    "\n",
    "You can find the dataset from the Github repository at the url:\n",
    "\n"
   ]
  },
  {
   "cell_type": "markdown",
   "id": "27c8190c",
   "metadata": {},
   "source": [
    "https://www.kaggle.com/competitions/galaxy-zoo-the-galaxy-challenge/data"
   ]
  },
  {
   "cell_type": "markdown",
   "id": "f0aed504-3ba4-4e6c-8cf2-6a7712020c11",
   "metadata": {},
   "source": [
    "---"
   ]
  },
  {
   "cell_type": "markdown",
   "id": "00b76134-4824-4115-b3a5-de1e7775b202",
   "metadata": {},
   "source": [
    "##### Create a data frame with columns for objid and the corresponding assest_id.  \n",
    "- asset_id: an integer that corresponds to the filename of the image of a particular galaxy.\n",
    "- objid is the designation of the galaxy, e.g. galaxy 587722981741363294"
   ]
  },
  {
   "cell_type": "code",
   "execution_count": 11,
   "id": "9f46a77d-db1f-42e7-a8ba-f857afbc66dc",
   "metadata": {},
   "outputs": [
    {
     "name": "stdout",
     "output_type": "stream",
     "text": [
      "                objid  asset_id\n",
      "0  587722981736120347         1\n",
      "1  587722981736579107         2\n",
      "2  587722981741363294         3\n",
      "3  587722981741363323         4\n",
      "4  587722981741559888         5\n",
      "<class 'pandas.core.frame.DataFrame'>\n",
      "RangeIndex: 355990 entries, 0 to 355989\n",
      "Data columns (total 2 columns):\n",
      " #   Column    Non-Null Count   Dtype\n",
      "---  ------    --------------   -----\n",
      " 0   objid     355990 non-null  int64\n",
      " 1   asset_id  355990 non-null  int64\n",
      "dtypes: int64(2)\n",
      "memory usage: 5.4 MB\n"
     ]
    }
   ],
   "source": [
    "import pandas as pd \n",
    "\n",
    "# get the objid and corresponding asset_id from gz2_filename_mapping.csv\n",
    "columns_to_keep = ['objid', 'asset_id']\n",
    "\n",
    "# Read the selected columns from the file\n",
    "name_map = pd.read_csv(\"data/gz2_filename_mapping.csv\", usecols=columns_to_keep)\n",
    "\n",
    "# display the first few rows\n",
    "print(name_map.head(5))\n",
    "\n",
    "name_map.info()"
   ]
  },
  {
   "cell_type": "markdown",
   "id": "c7deebcc-b02f-4779-bc8e-bfbbedd33e8d",
   "metadata": {},
   "source": [
    "---"
   ]
  },
  {
   "cell_type": "markdown",
   "id": "abb15ac7-997c-4b6d-bccf-1561fe270f2f",
   "metadata": {},
   "source": [
    "#### Create a data frame with dr7objid and corresponding label. \n",
    "- dr7objid gives the galaxy designation same as objid from the previous data frame.\n",
    "- label correspond to some classification of the galaxy based on its shape and morphology. "
   ]
  },
  {
   "cell_type": "code",
   "execution_count": 10,
   "id": "00ea2dd3-b5c3-4130-a520-6ab040a9f35e",
   "metadata": {},
   "outputs": [
    {
     "name": "stdout",
     "output_type": "stream",
     "text": [
      "             dr7objid gz2class\n",
      "0  588017703996096547    SBb?t\n",
      "1  587738569780428805      Ser\n",
      "2  587735695913320507     Sc+t\n",
      "3  587742775634624545   SBc(r)\n",
      "4  587732769983889439      Ser\n",
      "<class 'pandas.core.frame.DataFrame'>\n",
      "RangeIndex: 243500 entries, 0 to 243499\n",
      "Data columns (total 2 columns):\n",
      " #   Column    Non-Null Count   Dtype \n",
      "---  ------    --------------   ----- \n",
      " 0   dr7objid  243500 non-null  int64 \n",
      " 1   gz2class  243500 non-null  object\n",
      "dtypes: int64(1), object(1)\n",
      "memory usage: 3.7+ MB\n"
     ]
    }
   ],
   "source": [
    "# select columns dr7objid and gz2class from zoo2MainSpecz.csv\n",
    "columns_to_keep = ['dr7objid', 'gz2class']\n",
    "\n",
    "\n",
    "# Read the selected columns from the file\n",
    "labels = pd.read_csv(\"data/zoo2MainSpecz.csv\", usecols=columns_to_keep)\n",
    "\n",
    "# display\n",
    "print(labels.head(5))\n",
    "\n",
    "labels.info()\n"
   ]
  },
  {
   "cell_type": "markdown",
   "id": "99ad74d7-4b27-47fa-9b20-38c423d4130c",
   "metadata": {},
   "source": [
    "---"
   ]
  },
  {
   "cell_type": "markdown",
   "id": "0fb83bd6-9489-413e-9117-b612c4f8f1b3",
   "metadata": {},
   "source": [
    "1. Convert array of pixels in rows of a tabular dataset,\n",
    "   using single pixels as feature columns and the intensities as values measured "
   ]
  },
  {
   "cell_type": "code",
   "execution_count": 18,
   "id": "f68b5dfd-d587-4fdb-abae-64b3b9f02dac",
   "metadata": {},
   "outputs": [
    {
     "name": "stdout",
     "output_type": "stream",
     "text": [
      "  asset_id  0  1  2  3  4  5  6  7  8  ...  179766  179767  179768  179769  \\\n",
      "0    87384  4  4  2  1  0  0  0  0  1  ...       7       9      13      10   \n",
      "1   165078  0  0  0  1  3  5  7  8  2  ...       4       4       2       2   \n",
      "2   155364  5  6  7  7  7  7  6  5  5  ...      12      13      20      21   \n",
      "3   261278  0  0  1  1  1  1  1  1  5  ...       6       3       5       8   \n",
      "4   227960  3  3  3  2  2  1  1  1  1  ...       9      10      11      12   \n",
      "\n",
      "   179770  179771  179772  179773  179774  179775  \n",
      "0       4       1       1       3       7      11  \n",
      "1       2       3       3       4       4       5  \n",
      "2      20      17      13       9       7       7  \n",
      "3      10      10       7       4       2       2  \n",
      "4      13      14      14      14      13      13  \n",
      "\n",
      "[5 rows x 179777 columns]\n",
      "<class 'pandas.core.frame.DataFrame'>\n",
      "RangeIndex: 100 entries, 0 to 99\n",
      "Columns: 179777 entries, asset_id to 179775\n",
      "dtypes: object(1), uint8(179776)\n",
      "memory usage: 17.1+ MB\n"
     ]
    }
   ],
   "source": [
    "# Sequential implementation. Loops through one image at a time. This is embarassingly \n",
    "# parallelizable. The task which here consists of 1. processing images, converting to grayscale \n",
    "# and flattening pixel values is CPU-bound, ie performance is determined promarily by how\n",
    "# CPU can process it in contrast to I/O bound. \n",
    "# We can parallelize using Multiprocessing library or Dask. \n",
    "\n",
    "import os \n",
    "from PIL import Image, ImageOps\n",
    "from numpy import asarray\n",
    "\n",
    "# Directory containing the images\n",
    "image_dir = \"data/images\"\n",
    "\n",
    "# List to store image data \n",
    "image_data = []\n",
    "image_names = []\n",
    "\n",
    "# Iterate over all files in the directory \n",
    "for filename in os.listdir(image_dir):\n",
    "    if filename.endswith(('.jpg', '.png')): #filter the image files\n",
    "        image_path = os.path.join(image_dir, filename)\n",
    "\n",
    "        # Open image and convert to grayscale\n",
    "        img = Image.open(image_path)\n",
    "        img_gray = ImageOps.grayscale(img)\n",
    "\n",
    "        # Convert to a numpy array and flatter it to 1D\n",
    "        img_array = np.asarray(img_gray).flatten()\n",
    "\n",
    "        #store the image data and filename\n",
    "        image_data.append(img_array)\n",
    "\n",
    "        # Extract the base name without the extension\n",
    "        image_name = os.path.splitext(filename)[0] # Get only the root, ie w/o extension\n",
    "    \n",
    "        image_names.append(image_name)\n",
    "\n",
    "#convert to DataFrame\n",
    "image_data_frame = pd.DataFrame(image_data)\n",
    "image_data_frame.insert(0, \"asset_id\", image_names)\n",
    "\n",
    "#display the data frame\n",
    "print(image_data_frame.head())\n",
    "image_data_frame.info()\n",
    "\n",
    "# Save to CSV\n",
    "image_data_frame(\"image_pixel_data.csv\", index=False)"
   ]
  },
  {
   "cell_type": "code",
   "execution_count": null,
   "id": "3d7633cf-eddf-465e-bb60-e857ebbafb81",
   "metadata": {},
   "outputs": [],
   "source": []
  },
  {
   "cell_type": "code",
   "execution_count": null,
   "id": "2019b719-248f-40c9-aa87-8b08656691eb",
   "metadata": {},
   "outputs": [],
   "source": []
  },
  {
   "cell_type": "code",
   "execution_count": null,
   "id": "14594255-80eb-45e7-8a75-78e71866d3d6",
   "metadata": {},
   "outputs": [],
   "source": []
  },
  {
   "cell_type": "code",
   "execution_count": null,
   "id": "45bc66c7-4ae4-4a94-a49b-073d716736ad",
   "metadata": {},
   "outputs": [],
   "source": []
  },
  {
   "cell_type": "code",
   "execution_count": null,
   "id": "0681bdc8-307c-48c7-ac2c-4ba3e3b5f9e7",
   "metadata": {},
   "outputs": [],
   "source": []
  },
  {
   "cell_type": "markdown",
   "id": "0105d921",
   "metadata": {},
   "source": [
    "# Utility function to read Images"
   ]
  },
  {
   "cell_type": "code",
   "execution_count": 13,
   "id": "ba08e7e4",
   "metadata": {},
   "outputs": [],
   "source": [
    "#Using PILLOW to convert images to array\n",
    "from PIL import Image, ImageOps\n",
    "from numpy import asarray\n",
    " \n",
    " \n",
    "# load the image and convert into numpy array\n",
    "img = Image.open('data/images/6994.jpg') \n",
    "\n",
    "img_gray = ImageOps.grayscale(img)\n",
    "\n",
    "img_gray.show() #to check it become gray\n",
    " \n",
    "# asarray() class is used to convert\n",
    "# PIL images into NumPy arraystotal_classifications\n",
    "numpydata = asarray(img_gray)\n"
   ]
  },
  {
   "cell_type": "markdown",
   "id": "e5d16d55",
   "metadata": {},
   "source": [
    "# EDA, feature preprocessing and classification\n",
    "\n",
    "1. Convert array of pixels in rows of a tabular dataset,\n",
    "   using single pixels as feature columns and the intensities as values measured \n",
    "   \n",
    "   \n",
    "2. Perform EDA and feature preprocessing\n",
    "\n",
    "3. Estimate the symmetry of the preprocessed images with respect to 12 axes and add this info to the original data\n",
    "\n",
    "3. Test how much you can reduce the dimensions of the problem with one algorithm between (PCA, kPCA ..)\n",
    "4. Check how many clusters can be associated to the data points joint distribution using tSNE or UMAP\n",
    "\n",
    "5. Build the classifier using Random Forest (play with different  depth and number of trees) or SVC\n",
    "\n",
    "6. Train the classifier\n",
    "\n",
    "7. Predict the class labels\n"
   ]
  },
  {
   "cell_type": "markdown",
   "id": "4346703d",
   "metadata": {},
   "source": [
    "# Evaluate the accuracy of the Classifier\n",
    "## Plot Confusion matrix"
   ]
  },
  {
   "cell_type": "code",
   "execution_count": null,
   "id": "e511344d",
   "metadata": {},
   "outputs": [],
   "source": []
  }
 ],
 "metadata": {
  "kernelspec": {
   "display_name": "Python [conda env:group_project_env] *",
   "language": "python",
   "name": "conda-env-group_project_env-py"
  },
  "language_info": {
   "codemirror_mode": {
    "name": "ipython",
    "version": 3
   },
   "file_extension": ".py",
   "mimetype": "text/x-python",
   "name": "python",
   "nbconvert_exporter": "python",
   "pygments_lexer": "ipython3",
   "version": "3.10.16"
  }
 },
 "nbformat": 4,
 "nbformat_minor": 5
}
