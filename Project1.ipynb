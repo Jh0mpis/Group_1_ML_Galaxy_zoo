{
 "cells": [
  {
   "cell_type": "markdown",
   "id": "7f72f561",
   "metadata": {},
   "source": [
    "You can use this notebook to write the ML pipeline for the classification of the galaxies in the GALAXYZOO dataset or create a folder with different files associated to the different steps of the ML pipeline."
   ]
  },
  {
   "cell_type": "code",
   "execution_count": 1,
   "id": "15be4be0",
   "metadata": {},
   "outputs": [],
   "source": [
    "#Importing libraries\n",
    "\n",
    "import plotly.express as px\n",
    "import matplotlib.pyplot as plt\n",
    "import numpy as np\n",
    "from sklearn.preprocessing import StandardScaler\n",
    "from sklearn.model_selection import train_test_split\n",
    "#import Random forest classifiers\n",
    "from sklearn.metrics import accuracy_score, classification_report, confusion_matrix\n",
    "import seaborn as sns"
   ]
  },
  {
   "cell_type": "markdown",
   "id": "02232e77",
   "metadata": {},
   "source": [
    "# Downloading the Galaxy Zoo Dataset\n",
    "\n",
    "You can find the dataset from the Github repository at the url:\n",
    "\n"
   ]
  },
  {
   "cell_type": "markdown",
   "id": "27c8190c",
   "metadata": {},
   "source": [
    "https://www.kaggle.com/competitions/galaxy-zoo-the-galaxy-challenge/data"
   ]
  },
  {
   "cell_type": "markdown",
   "id": "f0aed504-3ba4-4e6c-8cf2-6a7712020c11",
   "metadata": {},
   "source": [
    "---"
   ]
  },
  {
   "cell_type": "markdown",
   "id": "00b76134-4824-4115-b3a5-de1e7775b202",
   "metadata": {},
   "source": [
    "#### Create a data frame with columns for objid and the corresponding asset_id.  \n",
    "- asset_id: an integer that corresponds to the filename of the image of a particular galaxy.\n",
    "- objid is the designation of the galaxy, e.g. galaxy 587722981741363294"
   ]
  },
  {
   "cell_type": "code",
   "execution_count": 2,
   "id": "77981e66-ff45-43e9-8566-6b7ab138d306",
   "metadata": {},
   "outputs": [
    {
     "name": "stdout",
     "output_type": "stream",
     "text": [
      "Using 100 images from each class\n",
      "Available classes:\n",
      "\u001b[1;31m\tEi:\t \u001b[0;34mEliptic galaxies of type i\u001b[0m\n",
      "\u001b[1;31m\tS:\t \u001b[0;34mSpiral galaxy\u001b[0m\n",
      "\u001b[1;31m\tEr:\t \u001b[0;34mEliptic galaxies of type r\u001b[0m\n",
      "\u001b[1;31m\tEc:\t \u001b[0;34mEliptic galaxies of type c\u001b[0m\n",
      "\u001b[1;31m\tSB:\t \u001b[0;34mBarred spiral galaxies\u001b[0m\n"
     ]
    }
   ],
   "source": [
    "from src.get_files import write_file_list\n",
    "\n",
    "write_file_list(500, overwrite=True)"
   ]
  },
  {
   "cell_type": "code",
   "execution_count": 3,
   "id": "9f46a77d-db1f-42e7-a8ba-f857afbc66dc",
   "metadata": {},
   "outputs": [],
   "source": [
    "import pandas as pd \n",
    "\n",
    "# get the objid and corresponding asset_id from gz2_filename_mapping.csv\n",
    "columns_to_keep = ['objid', 'asset_id']\n",
    "\n",
    "# Read the selected columns from the file\n",
    "name_map = pd.read_csv(\"data/gz2_filename_mapping.csv\", usecols=columns_to_keep)\n",
    "\n",
    "# display the first few rows\n",
    "# print(name_map.head(5))\n",
    "\n",
    "#name_map.info()"
   ]
  },
  {
   "cell_type": "markdown",
   "id": "c7deebcc-b02f-4779-bc8e-bfbbedd33e8d",
   "metadata": {},
   "source": [
    "---"
   ]
  },
  {
   "cell_type": "markdown",
   "id": "abb15ac7-997c-4b6d-bccf-1561fe270f2f",
   "metadata": {},
   "source": [
    "#### Create a data frame with dr7objid and corresponding label. \n",
    "- dr7objid gives the galaxy designation same as objid from the previous data frame.\n",
    "- label correspond to some classification of the galaxy based on its shape and morphology. "
   ]
  },
  {
   "cell_type": "code",
   "execution_count": 4,
   "id": "00ea2dd3-b5c3-4130-a520-6ab040a9f35e",
   "metadata": {},
   "outputs": [],
   "source": [
    "# select columns dr7objid and gz2class from zoo2MainSpecz.csvW\n",
    "columns_to_keep = ['dr7objid', 'gz2class']\n",
    "\n",
    "# Read the selected columns from the file\n",
    "labels = pd.read_csv(\"data/zoo2MainSpecz.csv\", usecols=columns_to_keep)\n",
    "\n",
    "# change the name of column dr7objid to objid for merging later\n",
    "labels.rename(columns={'dr7objid':'objid'}, inplace=True)\n",
    "\n",
    "# display\n",
    "#print(labels.head(5))\n",
    "\n",
    "#labels.info()\n"
   ]
  },
  {
   "cell_type": "markdown",
   "id": "99ad74d7-4b27-47fa-9b20-38c423d4130c",
   "metadata": {},
   "source": [
    "---"
   ]
  },
  {
   "cell_type": "markdown",
   "id": "0fb83bd6-9489-413e-9117-b612c4f8f1b3",
   "metadata": {},
   "source": [
    "### 1. Convert array of pixels in rows of a tabular dataset,using single pixels as feature columns and the intensities as values measured (Chris)"
   ]
  },
  {
   "cell_type": "code",
   "execution_count": 5,
   "id": "f68b5dfd-d587-4fdb-abae-64b3b9f02dac",
   "metadata": {},
   "outputs": [
    {
     "name": "stdout",
     "output_type": "stream",
     "text": [
      "<class 'pandas.core.frame.DataFrame'>\n",
      "RangeIndex: 500 entries, 0 to 499\n",
      "Columns: 179777 entries, asset_id to 179775\n",
      "dtypes: int64(1), uint8(179776)\n",
      "memory usage: 85.7 MB\n"
     ]
    }
   ],
   "source": [
    "# load and processing images, convert to grayscale and flattening pixel. \n",
    "\n",
    "from src.data_processing import process_image_seq # sequentially load one image ata time \n",
    "\n",
    "# Directory containing the images\n",
    "image_dir = \"data/images\"\n",
    "\n",
    "# call the sequential function\n",
    "image_data = process_image_seq(image_dir)\n",
    "\n",
    "#display the data frame\n",
    "#print(image_data.head())\n",
    "image_data.info()\n",
    "\n",
    "# Save to CSV\n",
    "#image_data(\"image_pixel_data.csv\", index=False)"
   ]
  },
  {
   "cell_type": "code",
   "execution_count": 6,
   "id": "3d7633cf-eddf-465e-bb60-e857ebbafb81",
   "metadata": {},
   "outputs": [
    {
     "data": {
      "text/html": [
       "<div>\n",
       "<style scoped>\n",
       "    .dataframe tbody tr th:only-of-type {\n",
       "        vertical-align: middle;\n",
       "    }\n",
       "\n",
       "    .dataframe tbody tr th {\n",
       "        vertical-align: top;\n",
       "    }\n",
       "\n",
       "    .dataframe thead th {\n",
       "        text-align: right;\n",
       "    }\n",
       "</style>\n",
       "<table border=\"1\" class=\"dataframe\">\n",
       "  <thead>\n",
       "    <tr style=\"text-align: right;\">\n",
       "      <th></th>\n",
       "      <th>objid</th>\n",
       "      <th>asset_id</th>\n",
       "    </tr>\n",
       "  </thead>\n",
       "  <tbody>\n",
       "    <tr>\n",
       "      <th>count</th>\n",
       "      <td>2.435000e+05</td>\n",
       "      <td>243500.000000</td>\n",
       "    </tr>\n",
       "    <tr>\n",
       "      <th>mean</th>\n",
       "      <td>5.878182e+17</td>\n",
       "      <td>142391.360846</td>\n",
       "    </tr>\n",
       "    <tr>\n",
       "      <th>std</th>\n",
       "      <td>1.824223e+14</td>\n",
       "      <td>81655.120603</td>\n",
       "    </tr>\n",
       "    <tr>\n",
       "      <th>min</th>\n",
       "      <td>5.877230e+17</td>\n",
       "      <td>3.000000</td>\n",
       "    </tr>\n",
       "    <tr>\n",
       "      <th>25%</th>\n",
       "      <td>5.877327e+17</td>\n",
       "      <td>71992.750000</td>\n",
       "    </tr>\n",
       "    <tr>\n",
       "      <th>50%</th>\n",
       "      <td>5.877393e+17</td>\n",
       "      <td>141183.500000</td>\n",
       "    </tr>\n",
       "    <tr>\n",
       "      <th>75%</th>\n",
       "      <td>5.877449e+17</td>\n",
       "      <td>213104.250000</td>\n",
       "    </tr>\n",
       "    <tr>\n",
       "      <th>max</th>\n",
       "      <td>5.888489e+17</td>\n",
       "      <td>295305.000000</td>\n",
       "    </tr>\n",
       "  </tbody>\n",
       "</table>\n",
       "</div>"
      ],
      "text/plain": [
       "              objid       asset_id\n",
       "count  2.435000e+05  243500.000000\n",
       "mean   5.878182e+17  142391.360846\n",
       "std    1.824223e+14   81655.120603\n",
       "min    5.877230e+17       3.000000\n",
       "25%    5.877327e+17   71992.750000\n",
       "50%    5.877393e+17  141183.500000\n",
       "75%    5.877449e+17  213104.250000\n",
       "max    5.888489e+17  295305.000000"
      ]
     },
     "execution_count": 6,
     "metadata": {},
     "output_type": "execute_result"
    }
   ],
   "source": [
    "# Merge labels and name_map dataframes to map asset_id to gz2class\n",
    "# merge based on objid. use an inner join (only matching rows) \n",
    "# since only a subset of points in labels are in name_map, ann inner join \n",
    "# will include the rows from name_map that have matching gz2class values\n",
    "# this will avoid NaNs\n",
    "\n",
    "labels_mapped = pd.merge(name_map, labels, on='objid', how='inner' ) \n",
    "\n",
    "\n",
    "labels_mapped.describe() # should have the same number of rows as the dataframe labels"
   ]
  },
  {
   "cell_type": "code",
   "execution_count": 7,
   "id": "2019b719-248f-40c9-aa87-8b08656691eb",
   "metadata": {},
   "outputs": [
    {
     "name": "stdout",
     "output_type": "stream",
     "text": [
      "                objid  asset_id   0   1   2  3  4  5  6  7  ...  179767  \\\n",
      "0  587722982281052314       203   5   5   5  5  5  5  5  5  ...       2   \n",
      "1  587722982829130044       785   2   2   2  2  2  3  3  3  ...       5   \n",
      "2  587722984437579948      1908   6   5   3  1  2  3  5  7  ...       3   \n",
      "3  587725040628465756      4526  17  15  11  7  4  2  1  1  ...       4   \n",
      "4  587725074458476803      5311   1   2   4  5  7  8  8  8  ...       3   \n",
      "\n",
      "   179768  179769  179770  179771  179772  179773  179774  179775  gz2class  \n",
      "0       3       8      11       9       4       0       1       3        Er  \n",
      "1       4       5       5       6       6       5       5       4       SBb  \n",
      "2       2       2       2       1       1       0       0       0      Sc2m  \n",
      "3       7      11      13       9       8      10      11      10     SBb2t  \n",
      "4       5       7      11      15      18      17      13       9      Sc2t  \n",
      "\n",
      "[5 rows x 179779 columns]\n",
      "gz2class\n",
      "Er    100\n",
      "SB    100\n",
      "S     100\n",
      "Ei    100\n",
      "Ec    100\n",
      "Name: count, dtype: int64\n",
      "<class 'pandas.core.frame.DataFrame'>\n",
      "RangeIndex: 500 entries, 0 to 499\n",
      "Columns: 179779 entries, objid to gz2class\n",
      "dtypes: int64(2), object(1), uint8(179776)\n",
      "memory usage: 85.7+ MB\n"
     ]
    }
   ],
   "source": [
    "# Merge labels_mapped with image_data to insert gz2class columnt to the latter \n",
    "# Merge based on asset_id and use an inner join. image_data which is our \n",
    "# main data frame will only have, in general, a subset of data points (galaxies)\n",
    "# in labels_mapped. \n",
    "\n",
    "#merge\n",
    "galaxy_data = pd.merge(labels_mapped, image_data, on='asset_id', how='inner' ) \n",
    "\n",
    "# Move gz2class to the last position to serve as labels\n",
    "galaxy_data['gz2class'] = galaxy_data.pop('gz2class')  \n",
    "\n",
    "# print\n",
    "print(galaxy_data.head(5))\n",
    "\n",
    "galaxy_data['gz2class'] = galaxy_data['gz2class'].str[:2].replace(r\"\\bS[a-z]\\w*\", \"S\", regex = True)\n",
    "print(galaxy_data['gz2class'].value_counts())\n",
    "\n",
    "galaxy_data.info()"
   ]
  },
  {
   "cell_type": "code",
   "execution_count": 8,
   "id": "5c395322-29a3-4aa4-811e-07c957af09b7",
   "metadata": {},
   "outputs": [],
   "source": [
    "from dask import delayed, compute\n",
    "import os \n",
    "from PIL import Image, ImageOps\n",
    "from numpy import asarray"
   ]
  },
  {
   "cell_type": "code",
   "execution_count": 9,
   "id": "14594255-80eb-45e7-8a75-78e71866d3d6",
   "metadata": {},
   "outputs": [],
   "source": [
    "# parallel implementation of processing the images with DASK\n",
    "\n",
    "from src.data_processing import process_image_dask\n",
    "\n",
    "# Directory containing images\n",
    "image_dir = \"data/images\"\n",
    "\n",
    "# Get list of image file paths\n",
    "image_files = [\n",
    "    os.path.join(image_dir, f) for f in os.listdir(image_dir)\n",
    "    if f.endswith(('.png', '.jpg'))\n",
    "]\n",
    "\n",
    "# Parallel execution using Dask\n",
    "delayed_results = [process_image_dask(img) for img in image_files]\n",
    "results = compute(*delayed_results)\n",
    "\n",
    "# Filter out failed reads\n",
    "results = [res for res in results if res is not None]\n",
    "\n",
    "# Convert to Dask DataFrame\n",
    "image_names, data = zip(*results)\n",
    "image_data = pd.DataFrame(data)\n",
    "image_data.insert(0, \"asset_id\", image_names)\n",
    "\n",
    "#print(galaxy_data.head())\n",
    "\n",
    "#image_data.info()\n",
    "\n",
    "# Save to CSV\n",
    "#df.to_csv(\"image_pixel_data.csv\", index=False)\n",
    "#print(\"Processing complete. Data saved to 'image_pixel_data.csv'.\")\n"
   ]
  },
  {
   "cell_type": "code",
   "execution_count": 10,
   "id": "45bc66c7-4ae4-4a94-a49b-073d716736ad",
   "metadata": {},
   "outputs": [
    {
     "name": "stdout",
     "output_type": "stream",
     "text": [
      "                objid  asset_id   0   1   2  3  4  5  6  7  ...  179767  \\\n",
      "0  587722982281052314       203   5   5   5  5  5  5  5  5  ...       2   \n",
      "1  587722982829130044       785   2   2   2  2  2  3  3  3  ...       5   \n",
      "2  587722984437579948      1908   6   5   3  1  2  3  5  7  ...       3   \n",
      "3  587725040628465756      4526  17  15  11  7  4  2  1  1  ...       4   \n",
      "4  587725074458476803      5311   1   2   4  5  7  8  8  8  ...       3   \n",
      "\n",
      "   179768  179769  179770  179771  179772  179773  179774  179775  gz2class  \n",
      "0       3       8      11       9       4       0       1       3        Er  \n",
      "1       4       5       5       6       6       5       5       4       SBb  \n",
      "2       2       2       2       1       1       0       0       0      Sc2m  \n",
      "3       7      11      13       9       8      10      11      10     SBb2t  \n",
      "4       5       7      11      15      18      17      13       9      Sc2t  \n",
      "\n",
      "[5 rows x 179779 columns]\n",
      "gz2class\n",
      "Er    100\n",
      "SB    100\n",
      "S     100\n",
      "Ei    100\n",
      "Ec    100\n",
      "Name: count, dtype: int64\n",
      "Empty DataFrame\n",
      "Columns: [objid, asset_id, 0, 1, 2, 3, 4, 5, 6, 7, 8, 9, 10, 11, 12, 13, 14, 15, 16, 17, 18, 19, 20, 21, 22, 23, 24, 25, 26, 27, 28, 29, 30, 31, 32, 33, 34, 35, 36, 37, 38, 39, 40, 41, 42, 43, 44, 45, 46, 47, 48, 49, 50, 51, 52, 53, 54, 55, 56, 57, 58, 59, 60, 61, 62, 63, 64, 65, 66, 67, 68, 69, 70, 71, 72, 73, 74, 75, 76, 77, 78, 79, 80, 81, 82, 83, 84, 85, 86, 87, 88, 89, 90, 91, 92, 93, 94, 95, 96, 97, ...]\n",
      "Index: []\n",
      "\n",
      "[0 rows x 179779 columns]\n",
      "<class 'pandas.core.frame.DataFrame'>\n",
      "RangeIndex: 500 entries, 0 to 499\n",
      "Columns: 179779 entries, objid to gz2class\n",
      "dtypes: int64(2), object(1), uint8(179776)\n",
      "memory usage: 85.7+ MB\n"
     ]
    }
   ],
   "source": [
    "# Merge labels_mapped with image_data to insert gz2class columnt to the latter \n",
    "# Merge based on asset_id and use an inner join. image_data which is our \n",
    "# main data frame will only have, in general, a subset of data points (galaxies)\n",
    "# in labels_mapped. \n",
    "# convert asset_id values in image_data from object to int64 before mergeing\n",
    "\n",
    "#merge\n",
    "galaxy_data = pd.merge(labels_mapped, image_data, on='asset_id', how='inner') \n",
    "\n",
    "# Move gz2class to the last position to serve as labels\n",
    "galaxy_data['gz2class'] = galaxy_data.pop('gz2class')  \n",
    "\n",
    "# print\n",
    "print(galaxy_data.head(5))\n",
    "galaxy_data['gz2class'] = galaxy_data['gz2class'].str[:2].replace(r\"\\bS[a-z]\\w*\", \"S\", regex = True)\n",
    "\n",
    "print(galaxy_data['gz2class'].value_counts())\n",
    "print(galaxy_data[galaxy_data['gz2class'] == 'A'])\n",
    "galaxy_data.info()"
   ]
  },
  {
   "cell_type": "markdown",
   "id": "2c8845a8-a5db-496b-9ac3-d71738d22fc0",
   "metadata": {},
   "source": [
    "---"
   ]
  },
  {
   "cell_type": "markdown",
   "id": "ed5ecb25-a90d-453d-b5be-ff1d3f5b3251",
   "metadata": {},
   "source": [
    "### 2. Perform EDA and feature preprocessing (Nisha)\n",
    "#### 2.1 Exploratory Data Analysis (EDA)"
   ]
  },
  {
   "cell_type": "code",
   "execution_count": 11,
   "id": "fc70aecf-4e70-41bf-8ec3-999b24cc9bde",
   "metadata": {},
   "outputs": [
    {
     "name": "stdout",
     "output_type": "stream",
     "text": [
      "(500, 179779)\n",
      "<class 'pandas.core.frame.DataFrame'>\n",
      "RangeIndex: 500 entries, 0 to 499\n",
      "Columns: 179779 entries, objid to gz2class\n",
      "dtypes: int64(2), object(1), uint8(179776)\n",
      "memory usage: 85.7+ MB\n",
      "              objid       asset_id           0           1          2  \\\n",
      "count  5.000000e+02     500.000000  500.000000  500.000000  500.00000   \n",
      "mean   5.878096e+17  143714.944000    5.796000    5.802000    5.82200   \n",
      "std    1.499078e+14   82300.116651    7.762403    8.399756    9.10407   \n",
      "min    5.877230e+17     203.000000    0.000000    0.000000    0.00000   \n",
      "25%    5.877327e+17   71165.750000    2.000000    2.000000    2.00000   \n",
      "50%    5.877394e+17  150039.000000    4.000000    4.000000    4.00000   \n",
      "75%    5.877454e+17  213364.750000    7.250000    7.000000    7.00000   \n",
      "max    5.888489e+17  294339.000000   96.000000  100.000000  118.00000   \n",
      "\n",
      "                3           4           5           6           7  ...  \\\n",
      "count  500.000000  500.000000  500.000000  500.000000  500.000000  ...   \n",
      "mean     5.806000    5.820000    5.816000    5.732000    5.678000  ...   \n",
      "std      9.075963    8.837863    8.632217    8.572698    8.841644  ...   \n",
      "min      0.000000    0.000000    0.000000    0.000000    0.000000  ...   \n",
      "25%      2.000000    2.000000    2.000000    2.000000    2.000000  ...   \n",
      "50%      4.000000    4.000000    4.000000    4.000000    4.000000  ...   \n",
      "75%      7.000000    7.000000    7.000000    7.000000    7.000000  ...   \n",
      "max    109.000000  112.000000  115.000000  119.000000  122.000000  ...   \n",
      "\n",
      "           179766      179767      179768      179769      179770      179771  \\\n",
      "count  500.000000  500.000000  500.000000  500.000000  500.000000  500.000000   \n",
      "mean     5.898000    5.790000    5.784000    5.726000    5.738000    5.910000   \n",
      "std      9.130516    8.835952    8.681941    8.579869    8.687941    8.881422   \n",
      "min      0.000000    0.000000    0.000000    0.000000    0.000000    0.000000   \n",
      "25%      2.000000    2.000000    2.000000    2.000000    2.000000    2.000000   \n",
      "50%      4.000000    4.000000    4.000000    4.000000    4.000000    4.000000   \n",
      "75%      7.000000    7.000000    7.000000    7.000000    7.000000    7.000000   \n",
      "max    108.000000  107.000000  104.000000  101.000000   96.000000   92.000000   \n",
      "\n",
      "           179772      179773      179774      179775  \n",
      "count  500.000000  500.000000  500.000000  500.000000  \n",
      "mean     6.154000    6.268000    6.234000    6.218000  \n",
      "std      9.039342    9.068663    9.101699    9.286277  \n",
      "min      0.000000    0.000000    0.000000    0.000000  \n",
      "25%      2.000000    2.000000    2.000000    2.000000  \n",
      "50%      4.000000    4.000000    4.000000    4.000000  \n",
      "75%      8.000000    8.000000    7.000000    8.000000  \n",
      "max     89.000000   92.000000   97.000000  101.000000  \n",
      "\n",
      "[8 rows x 179778 columns]\n"
     ]
    }
   ],
   "source": [
    "# print\n",
    "#print(galaxy_data.head(4))\n",
    "\n",
    "print(galaxy_data.shape)  # Check dimensions\n",
    "\n",
    "galaxy_data.info()# Check data types & missing values\n",
    "\n",
    "print(galaxy_data.describe())  # Get summary stats"
   ]
  },
  {
   "cell_type": "markdown",
   "id": "59d209ce-9ce5-4d47-b095-9b896d35389f",
   "metadata": {},
   "source": [
    "## Adding the symmetry data\n",
    "\n",
    "For this kind of images we can get the symmetry information given some axis in order to add a new data that can be relevant to the data frame. In the python module named `get_symmetry` inside of the `src/` folder we define a pair of functions that given an array of images and the number of axis of symmetry we compute the differences between the intensity values of each pixel pair.\n",
    "\n",
    "The process of getting the symmetries is the following one:\n",
    "\n",
    "1. Get the coordinates of each pixel.\n",
    "2. Rotate the coordinate system in an angle $ \\theta = \\dfrac{i * \\pi }{n\\_axis} $. Where $i$ is a number that goes from 0 to $ \\dfrac{n\\_axis}{2}$ and $n_axis$ is the number of axis of symmetry\n",
    "3. Ignore the data that is outside of a circle of radius width of the image and centered in the middle of the image.\n",
    "4. Split the image in the upper and the lower part, reflect the left part and compute the distance and append to the vector that stores the symmetry values.\n",
    "5. Split the image in the left and right part, reflect the right part and compute the distance and append to the vector that stores the symmetry values.\n",
    "6. Repeat until $i = \\dfrac{n\\_axis}{2}$.\n",
    "7. Return the vector with the symmetry values.\n",
    "\n",
    "For instance, an example of the step 5 is showing on the next image:\n",
    "\n",
    "![images/symmetries.png](images/symmetries.png)\n",
    "\n",
    "Lower the distance (darker the image) more symmetric the original image.\n",
    "\n",
    "Then, we have the following code:"
   ]
  },
  {
   "cell_type": "code",
   "execution_count": 12,
   "id": "29fcb602-0551-4abd-bb90-500f31be6d70",
   "metadata": {},
   "outputs": [],
   "source": [
    "# Import the function from the module\n",
    "from src.get_symmetry import get_all_symmetries\n",
    "\n",
    "# Get the data related with the pixels\n",
    "get_images_column = np.linspace(0, 424*424-1, 424*424)\n",
    "# Reshape the image and assign it to an array\n",
    "images_array = np.reshape(galaxy_data[get_images_column].to_numpy(), shape = (galaxy_data.shape[0], 424, 424))"
   ]
  },
  {
   "cell_type": "code",
   "execution_count": 13,
   "id": "0e1bed3d-467b-4bf8-b425-3bea8133d768",
   "metadata": {},
   "outputs": [
    {
     "name": "stdout",
     "output_type": "stream",
     "text": [
      "CPU times: user 20.3 s, sys: 1.04 ms, total: 20.3 s\n",
      "Wall time: 20.3 s\n"
     ]
    }
   ],
   "source": [
    "%%time\n",
    "# Chossing the number of axis\n",
    "axis = 12\n",
    "\n",
    "# Defining the column names\n",
    "columns = [f\"axis-{i}\" for i in range(axis)]\n",
    "\n",
    "# Getting the data\n",
    "sym_data = get_all_symmetries(images_array, axis)"
   ]
  },
  {
   "cell_type": "code",
   "execution_count": 21,
   "id": "3d8bd4d3-3baa-45e1-a2d7-61263427f0d8",
   "metadata": {},
   "outputs": [
    {
     "data": {
      "text/html": [
       "<div>\n",
       "<style scoped>\n",
       "    .dataframe tbody tr th:only-of-type {\n",
       "        vertical-align: middle;\n",
       "    }\n",
       "\n",
       "    .dataframe tbody tr th {\n",
       "        vertical-align: top;\n",
       "    }\n",
       "\n",
       "    .dataframe thead th {\n",
       "        text-align: right;\n",
       "    }\n",
       "</style>\n",
       "<table border=\"1\" class=\"dataframe\">\n",
       "  <thead>\n",
       "    <tr style=\"text-align: right;\">\n",
       "      <th></th>\n",
       "      <th>axis-0</th>\n",
       "      <th>axis-1</th>\n",
       "      <th>axis-2</th>\n",
       "      <th>axis-3</th>\n",
       "      <th>axis-4</th>\n",
       "      <th>axis-5</th>\n",
       "      <th>axis-6</th>\n",
       "      <th>axis-7</th>\n",
       "      <th>axis-8</th>\n",
       "      <th>axis-9</th>\n",
       "      <th>axis-10</th>\n",
       "      <th>axis-11</th>\n",
       "    </tr>\n",
       "  </thead>\n",
       "  <tbody>\n",
       "    <tr>\n",
       "      <th>count</th>\n",
       "      <td>500.000000</td>\n",
       "      <td>500.000000</td>\n",
       "      <td>500.000000</td>\n",
       "      <td>500.000000</td>\n",
       "      <td>500.000000</td>\n",
       "      <td>500.000000</td>\n",
       "      <td>500.000000</td>\n",
       "      <td>500.000000</td>\n",
       "      <td>500.000000</td>\n",
       "      <td>500.000000</td>\n",
       "      <td>500.000000</td>\n",
       "      <td>500.000000</td>\n",
       "    </tr>\n",
       "    <tr>\n",
       "      <th>mean</th>\n",
       "      <td>3.056236</td>\n",
       "      <td>3.059411</td>\n",
       "      <td>3.019115</td>\n",
       "      <td>3.031504</td>\n",
       "      <td>3.029489</td>\n",
       "      <td>3.043425</td>\n",
       "      <td>3.050423</td>\n",
       "      <td>3.023436</td>\n",
       "      <td>3.051278</td>\n",
       "      <td>2.996940</td>\n",
       "      <td>3.021457</td>\n",
       "      <td>2.966805</td>\n",
       "    </tr>\n",
       "    <tr>\n",
       "      <th>std</th>\n",
       "      <td>1.219349</td>\n",
       "      <td>1.399745</td>\n",
       "      <td>1.176072</td>\n",
       "      <td>1.418727</td>\n",
       "      <td>1.184985</td>\n",
       "      <td>1.431365</td>\n",
       "      <td>1.268957</td>\n",
       "      <td>1.399372</td>\n",
       "      <td>1.341824</td>\n",
       "      <td>1.342629</td>\n",
       "      <td>1.381333</td>\n",
       "      <td>1.287374</td>\n",
       "    </tr>\n",
       "    <tr>\n",
       "      <th>min</th>\n",
       "      <td>1.388411</td>\n",
       "      <td>1.409615</td>\n",
       "      <td>1.421997</td>\n",
       "      <td>1.394196</td>\n",
       "      <td>1.320365</td>\n",
       "      <td>1.308951</td>\n",
       "      <td>1.341252</td>\n",
       "      <td>1.342443</td>\n",
       "      <td>1.314102</td>\n",
       "      <td>1.274753</td>\n",
       "      <td>1.339573</td>\n",
       "      <td>1.314831</td>\n",
       "    </tr>\n",
       "    <tr>\n",
       "      <th>25%</th>\n",
       "      <td>2.261877</td>\n",
       "      <td>2.219561</td>\n",
       "      <td>2.231071</td>\n",
       "      <td>2.188006</td>\n",
       "      <td>2.270770</td>\n",
       "      <td>2.207524</td>\n",
       "      <td>2.233400</td>\n",
       "      <td>2.179672</td>\n",
       "      <td>2.227437</td>\n",
       "      <td>2.168403</td>\n",
       "      <td>2.170347</td>\n",
       "      <td>2.163097</td>\n",
       "    </tr>\n",
       "    <tr>\n",
       "      <th>50%</th>\n",
       "      <td>2.746131</td>\n",
       "      <td>2.725878</td>\n",
       "      <td>2.759426</td>\n",
       "      <td>2.717496</td>\n",
       "      <td>2.774600</td>\n",
       "      <td>2.738575</td>\n",
       "      <td>2.756249</td>\n",
       "      <td>2.682394</td>\n",
       "      <td>2.724677</td>\n",
       "      <td>2.670240</td>\n",
       "      <td>2.680589</td>\n",
       "      <td>2.626886</td>\n",
       "    </tr>\n",
       "    <tr>\n",
       "      <th>75%</th>\n",
       "      <td>3.440977</td>\n",
       "      <td>3.429309</td>\n",
       "      <td>3.404884</td>\n",
       "      <td>3.374815</td>\n",
       "      <td>3.418045</td>\n",
       "      <td>3.387831</td>\n",
       "      <td>3.466775</td>\n",
       "      <td>3.406787</td>\n",
       "      <td>3.485129</td>\n",
       "      <td>3.405029</td>\n",
       "      <td>3.400039</td>\n",
       "      <td>3.338467</td>\n",
       "    </tr>\n",
       "    <tr>\n",
       "      <th>max</th>\n",
       "      <td>11.893256</td>\n",
       "      <td>14.051275</td>\n",
       "      <td>10.307138</td>\n",
       "      <td>14.470791</td>\n",
       "      <td>12.565849</td>\n",
       "      <td>14.579849</td>\n",
       "      <td>13.221837</td>\n",
       "      <td>14.378794</td>\n",
       "      <td>13.166991</td>\n",
       "      <td>13.839439</td>\n",
       "      <td>13.234392</td>\n",
       "      <td>13.065459</td>\n",
       "    </tr>\n",
       "  </tbody>\n",
       "</table>\n",
       "</div>"
      ],
      "text/plain": [
       "           axis-0      axis-1      axis-2      axis-3      axis-4      axis-5  \\\n",
       "count  500.000000  500.000000  500.000000  500.000000  500.000000  500.000000   \n",
       "mean     3.056236    3.059411    3.019115    3.031504    3.029489    3.043425   \n",
       "std      1.219349    1.399745    1.176072    1.418727    1.184985    1.431365   \n",
       "min      1.388411    1.409615    1.421997    1.394196    1.320365    1.308951   \n",
       "25%      2.261877    2.219561    2.231071    2.188006    2.270770    2.207524   \n",
       "50%      2.746131    2.725878    2.759426    2.717496    2.774600    2.738575   \n",
       "75%      3.440977    3.429309    3.404884    3.374815    3.418045    3.387831   \n",
       "max     11.893256   14.051275   10.307138   14.470791   12.565849   14.579849   \n",
       "\n",
       "           axis-6      axis-7      axis-8      axis-9     axis-10     axis-11  \n",
       "count  500.000000  500.000000  500.000000  500.000000  500.000000  500.000000  \n",
       "mean     3.050423    3.023436    3.051278    2.996940    3.021457    2.966805  \n",
       "std      1.268957    1.399372    1.341824    1.342629    1.381333    1.287374  \n",
       "min      1.341252    1.342443    1.314102    1.274753    1.339573    1.314831  \n",
       "25%      2.233400    2.179672    2.227437    2.168403    2.170347    2.163097  \n",
       "50%      2.756249    2.682394    2.724677    2.670240    2.680589    2.626886  \n",
       "75%      3.466775    3.406787    3.485129    3.405029    3.400039    3.338467  \n",
       "max     13.221837   14.378794   13.166991   13.839439   13.234392   13.065459  "
      ]
     },
     "execution_count": 21,
     "metadata": {},
     "output_type": "execute_result"
    }
   ],
   "source": [
    "# Appending to the data frame\n",
    "for i in range(axis):\n",
    "    galaxy_data[columns[i]] = sym_data[:,i]\n",
    "\n",
    "\n",
    "# Move gz2class to the last position to serve as labels\n",
    "galaxy_data['gz2class'] = galaxy_data.pop('gz2class')  \n",
    "\n",
    "galaxy_data[columns].describe()"
   ]
  },
  {
   "cell_type": "code",
   "execution_count": 22,
   "id": "efd95fa7-c6f6-47a5-8627-dfd3616be548",
   "metadata": {},
   "outputs": [
    {
     "name": "stdout",
     "output_type": "stream",
     "text": [
      "                objid  asset_id   0   1   2  3  4  5  6  7  ...    axis-3  \\\n",
      "0  587722982281052314       203   5   5   5  5  5  5  5  5  ...  2.942490   \n",
      "1  587722982829130044       785   2   2   2  2  2  3  3  3  ...  3.633872   \n",
      "2  587722984437579948      1908   6   5   3  1  2  3  5  7  ...  1.607951   \n",
      "3  587725040628465756      4526  17  15  11  7  4  2  1  1  ...  2.753304   \n",
      "4  587725074458476803      5311   1   2   4  5  7  8  8  8  ...  4.293838   \n",
      "\n",
      "     axis-4    axis-5    axis-6    axis-7    axis-8    axis-9   axis-10  \\\n",
      "0  2.935119  2.808261  2.753554  2.739659  2.745350  2.784243  2.963332   \n",
      "1  3.395815  3.280015  3.004311  2.842921  2.225853  2.084733  2.681587   \n",
      "2  1.695744  1.595007  1.661879  1.607545  1.651728  1.618186  1.590757   \n",
      "3  2.572423  2.538270  2.190242  2.180853  1.973678  1.907763  2.345919   \n",
      "4  4.660639  4.716052  4.679540  4.608674  4.471859  4.438518  4.026961   \n",
      "\n",
      "    axis-11  gz2class  \n",
      "0  2.772539        Er  \n",
      "1  2.611578        SB  \n",
      "2  1.671413         S  \n",
      "3  2.271549        SB  \n",
      "4  3.990093         S  \n",
      "\n",
      "[5 rows x 179791 columns]\n"
     ]
    },
    {
     "data": {
      "text/plain": [
       "<bound method DataFrame.info of                   objid  asset_id   0   1   2   3   4   5   6   7  ...  \\\n",
       "0    587722982281052314       203   5   5   5   5   5   5   5   5  ...   \n",
       "1    587722982829130044       785   2   2   2   2   2   3   3   3  ...   \n",
       "2    587722984437579948      1908   6   5   3   1   2   3   5   7  ...   \n",
       "3    587725040628465756      4526  17  15  11   7   4   2   1   1  ...   \n",
       "4    587725074458476803      5311   1   2   4   5   7   8   8   8  ...   \n",
       "..                  ...       ...  ..  ..  ..  ..  ..  ..  ..  ..  ...   \n",
       "495  588015508216152237    290241   2   1   2   5   9  12  13  12  ...   \n",
       "496  588015509289828532    292702   5   2   0   0   0   3   4   4  ...   \n",
       "497  588015509289828556    292704  26  25  23  21  19  17  15  14  ...   \n",
       "498  588015509811495058    293276   4   4   5   6   8  11  13  14  ...   \n",
       "499  588015510343843922    294339   1   5   8   7   4   3   4   7  ...   \n",
       "\n",
       "       axis-3    axis-4    axis-5    axis-6    axis-7    axis-8    axis-9  \\\n",
       "0    2.942490  2.935119  2.808261  2.753554  2.739659  2.745350  2.784243   \n",
       "1    3.633872  3.395815  3.280015  3.004311  2.842921  2.225853  2.084733   \n",
       "2    1.607951  1.695744  1.595007  1.661879  1.607545  1.651728  1.618186   \n",
       "3    2.753304  2.572423  2.538270  2.190242  2.180853  1.973678  1.907763   \n",
       "4    4.293838  4.660639  4.716052  4.679540  4.608674  4.471859  4.438518   \n",
       "..        ...       ...       ...       ...       ...       ...       ...   \n",
       "495  3.269680  3.014373  2.996017  2.305742  2.313095  2.168688  2.201896   \n",
       "496  4.477750  4.002976  4.207720  4.873426  4.703192  5.475125  4.601593   \n",
       "497  2.575060  2.648407  2.608246  2.695382  2.487768  2.759440  2.375617   \n",
       "498  2.868097  3.008622  2.996485  2.974557  2.999944  2.810970  2.783091   \n",
       "499  2.652184  2.669711  2.653291  2.598206  2.584689  2.478223  2.498882   \n",
       "\n",
       "      axis-10   axis-11  gz2class  \n",
       "0    2.963332  2.772539        Er  \n",
       "1    2.681587  2.611578        SB  \n",
       "2    1.590757  1.671413         S  \n",
       "3    2.345919  2.271549        SB  \n",
       "4    4.026961  3.990093         S  \n",
       "..        ...       ...       ...  \n",
       "495  2.888845  2.792970        Ec  \n",
       "496  5.567056  4.875873        Ec  \n",
       "497  2.745227  2.442840        Er  \n",
       "498  2.405243  2.308667        SB  \n",
       "499  2.476643  2.483941        Er  \n",
       "\n",
       "[500 rows x 179791 columns]>"
      ]
     },
     "execution_count": 22,
     "metadata": {},
     "output_type": "execute_result"
    }
   ],
   "source": [
    "#print(galaxy_data.head())\n",
    "#galaxy_data.info"
   ]
  },
  {
   "cell_type": "code",
   "execution_count": 24,
   "id": "e16bb97c-e26b-421a-a04e-97c0fd54f96c",
   "metadata": {},
   "outputs": [
    {
     "name": "stdout",
     "output_type": "stream",
     "text": [
      "Original shape: (500, 179791), Reduced shape with PCA: (500, 296)\n"
     ]
    }
   ],
   "source": [
    "from sklearn.decomposition import PCA\n",
    "\n",
    "galaxy_data.columns = galaxy_data.columns.astype(str)\n",
    "\n",
    "# Select only pixel features (exclude first two columns and label)\n",
    "pixel_data = galaxy_data.iloc[:, 2:-1]  \n",
    "\n",
    "# Apply PCA to retain 95% of the variance\n",
    "pca = PCA(n_components=0.95)  # Retain 95% of the variance\n",
    "principal_components = pca.fit_transform(pixel_data)\n",
    "\n",
    "# Create new dataframe with principal components\n",
    "galaxy_data_pca = pd.DataFrame(principal_components)\n",
    "\n",
    "# Reinsert metadata columns\n",
    "galaxy_data_pca.insert(0, \"objid\", galaxy_data[\"objid\"])\n",
    "galaxy_data_pca.insert(1, \"asset_id\", galaxy_data[\"asset_id\"])\n",
    "galaxy_data_pca[\"gz2class\"] = galaxy_data[\"gz2class\"]\n",
    "\n",
    "print(f\"Original shape: {galaxy_data.shape}, Reduced shape with PCA: {galaxy_data_pca.shape}\")"
   ]
  },
  {
   "cell_type": "markdown",
   "id": "4e33f4b7-d765-4553-ad25-d46d54ec0a5b",
   "metadata": {},
   "source": [
    "---"
   ]
  },
  {
   "cell_type": "markdown",
   "id": "fab8ac96-c6f0-4934-ac09-6a8022a2a736",
   "metadata": {},
   "source": [
    "### 5. Check how many clusters can be associated to the data points joint distribution using tSNE or UMAP. "
   ]
  },
  {
   "cell_type": "code",
   "execution_count": 25,
   "id": "c06b3140-f30d-4111-95bf-c63d8445d573",
   "metadata": {},
   "outputs": [
    {
     "data": {
      "image/png": "[encoded data removed]",
      "text/plain": [
       "<Figure size 800x600 with 1 Axes>"
      ]
     },
     "metadata": {},
     "output_type": "display_data"
    }
   ],
   "source": [
    "from sklearn.manifold import TSNE\n",
    "\n",
    "# Convert PCA-reduced data to numpy array (excluding metadata columns)\n",
    "X_pca = galaxy_data_pca.iloc[:, 2:-1].values  # Excluding \"objectid\", \"asset_id\", and \"gz2class\"\n",
    "\n",
    "# Apply t-SNE to reduce to 2D\n",
    "tsne = TSNE(n_components=2, perplexity=30, random_state=42)\n",
    "X_tsne = tsne.fit_transform(X_pca)\n",
    "\n",
    "# Plot t-SNE results\n",
    "plt.figure(figsize=(8, 6))\n",
    "sns.scatterplot(x=X_tsne[:, 0], y=X_tsne[:, 1], hue=galaxy_data_pca[\"gz2class\"], palette=\"viridis\", alpha=0.7)\n",
    "plt.xlabel(\"t-SNE Component 1\")\n",
    "plt.ylabel(\"t-SNE Component 2\")\n",
    "plt.title(\"t-SNE Clustering of Galaxy Images\")\n",
    "plt.legend(title=\"Label\")\n",
    "plt.show()"
   ]
  },
  {
   "cell_type": "markdown",
   "id": "0105d921",
   "metadata": {},
   "source": [
    "# Utility function to read Images"
   ]
  },
  {
   "cell_type": "code",
   "execution_count": null,
   "id": "ba08e7e4",
   "metadata": {},
   "outputs": [],
   "source": [
    "#Using PILLOW to convert images to array\n",
    "from PIL import Image, ImageOps\n",
    "from numpy import asarray\n",
    " \n",
    " \n",
    "# load the image and convert into numpy array\n",
    "img = Image.open('data/images/6994.jpg') \n",
    "\n",
    "img_gray = ImageOps.grayscale(img)\n",
    "\n",
    "#img_gray.show() #to check it become gray\n",
    " \n",
    "# asarray() class is used to convert\n",
    "# PIL images into NumPy arraystotal_classifications\n",
    "numpydata = asarray(img_gray)\n"
   ]
  },
  {
   "cell_type": "markdown",
   "id": "e5d16d55",
   "metadata": {},
   "source": [
    "# EDA, feature preprocessing and classification\n",
    "\n",
    "1. Convert array of pixels in rows of a tabular dataset,\n",
    "   using single pixels as feature columns and the intensities as values measured \n",
    "   \n",
    "   \n",
    "2. Perform EDA and feature preprocessing\n",
    "\n",
    "3. Estimate the symmetry of the preprocessed images with respect to 12 axes and add this info to the original data\n",
    "\n",
    "3. Test how much you can reduce the dimensions of the problem with one algorithm between (PCA, kPCA ..)\n",
    "4. Check how many clusters can be associated to the data points joint distribution using tSNE or UMAP\n",
    "\n",
    "5. Build the classifier using Random Forest (play with different  depth and number of trees) or SVC\n",
    "\n",
    "6. Train the classifier\n",
    "\n",
    "7. Predict the class labels\n"
   ]
  },
  {
   "cell_type": "markdown",
   "id": "4346703d",
   "metadata": {},
   "source": [
    "# Evaluate the accuracy of the Classifier\n",
    "## Plot Confusion matrix"
   ]
  },
  {
   "cell_type": "code",
   "execution_count": null,
   "id": "e511344d",
   "metadata": {},
   "outputs": [],
   "source": []
  }
 ],
 "metadata": {
  "kernelspec": {
   "display_name": "Python [conda env:group_project_env]",
   "language": "python",
   "name": "conda-env-group_project_env-py"
  },
  "language_info": {
   "codemirror_mode": {
    "name": "ipython",
    "version": 3
   },
   "file_extension": ".py",
   "mimetype": "text/x-python",
   "name": "python",
   "nbconvert_exporter": "python",
   "pygments_lexer": "ipython3",
   "version": "3.10.16"
  }
 },
 "nbformat": 4,
 "nbformat_minor": 5
}
